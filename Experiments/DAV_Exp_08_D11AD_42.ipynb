{
  "nbformat": 4,
  "nbformat_minor": 0,
  "metadata": {
    "colab": {
      "provenance": []
    },
    "kernelspec": {
      "name": "python3",
      "display_name": "Python 3"
    },
    "language_info": {
      "name": "python"
    }
  },
  "cells": [
    {
      "cell_type": "markdown",
      "metadata": {
        "id": "view-in-github"
      },
      "source": [
        "<a href=\"https://colab.research.google.com/github/mehvishhkhan/DAV/blob/main/DAV_Exp8_32.ipynb\" target=\"_parent\"><img src=\"https://colab.research.google.com/assets/colab-badge.svg\" alt=\"Open In Colab\"/></a>"
      ]
    },
    {
      "cell_type": "code",
      "source": [
        "%%html\n",
        "<!DOCTYPE html>\n",
        "<html lang=\"en\">\n",
        "<head>\n",
        "    <meta charset=\"UTF-8\">\n",
        "    <meta name=\"viewport\" content=\"width=device-width, initial-scale=1.0\">\n",
        "    <title>D3.js Experiment 8</title>\n",
        "    <script src=\"https://d3js.org/d3.v5.min.js\"></script>\n",
        "</head>\n",
        "<body>\n",
        "\n",
        "    <svg width=\"400\" height=\"400\"></svg>\n",
        "    <script>\n",
        "        var w = 400;\n",
        "        var h = 400;\n",
        "\n",
        "        var svg = d3.select(\"body\")\n",
        "                    .append(\"svg\")\n",
        "                    .attr(\"width\", w)\n",
        "                    .attr(\"height\", h);\n",
        "\n",
        "        // Base of the house\n",
        "        svg.append(\"rect\")\n",
        "           .attr(\"x\", 100)\n",
        "           .attr(\"y\", 250)\n",
        "           .attr(\"width\", 200)\n",
        "           .attr(\"height\", 150)\n",
        "           .attr(\"fill\", \"lightgrey\")\n",
        "           .attr(\"stroke\", \"black\");\n",
        "\n",
        "        // Roof of the house\n",
        "        svg.append(\"polygon\")\n",
        "           .attr(\"points\", \"100,250 300,250 200,150\")\n",
        "           .attr(\"fill\", \"red\")\n",
        "           .attr(\"stroke\", \"black\");\n",
        "\n",
        "        // Door of the house\n",
        "        svg.append(\"rect\")\n",
        "           .attr(\"x\", 210)\n",
        "           .attr(\"y\", 300)\n",
        "           .attr(\"width\", 70)\n",
        "           .attr(\"height\", 100)\n",
        "           .attr(\"fill\", \"brown\")\n",
        "           .attr(\"stroke\", \"black\");\n",
        "\n",
        "        // Window of the house\n",
        "        svg.append(\"rect\")\n",
        "           .attr(\"x\", 120)\n",
        "           .attr(\"y\", 270)\n",
        "           .attr(\"width\", 50)\n",
        "           .attr(\"height\", 60)\n",
        "           .attr(\"fill\", \"lightblue\")\n",
        "           .attr(\"stroke\", \"black\");\n",
        "\n",
        "    </script>\n",
        "\n",
        "</body>\n",
        "</html>"
      ],
      "metadata": {
        "colab": {
          "base_uri": "https://localhost:8080/",
          "height": 826
        },
        "id": "yYVQtSvPBPwu",
        "outputId": "8e122eed-4637-445f-ff8f-390127b1343d"
      },
      "execution_count": 1,
      "outputs": [
        {
          "output_type": "display_data",
          "data": {
            "text/plain": [
              "<IPython.core.display.HTML object>"
            ],
            "text/html": [
              "<!DOCTYPE html>\n",
              "<html lang=\"en\">\n",
              "<head>\n",
              "    <meta charset=\"UTF-8\">\n",
              "    <meta name=\"viewport\" content=\"width=device-width, initial-scale=1.0\">\n",
              "    <title>D3.js Experiment 8</title>\n",
              "    <script src=\"https://d3js.org/d3.v5.min.js\"></script>\n",
              "</head>\n",
              "<body>\n",
              "\n",
              "    <svg width=\"400\" height=\"400\"></svg>\n",
              "    <script>\n",
              "        var w = 400;\n",
              "        var h = 400;\n",
              "\n",
              "        var svg = d3.select(\"body\")\n",
              "                    .append(\"svg\")\n",
              "                    .attr(\"width\", w)\n",
              "                    .attr(\"height\", h);\n",
              "\n",
              "        // Base of the house\n",
              "        svg.append(\"rect\")\n",
              "           .attr(\"x\", 100)\n",
              "           .attr(\"y\", 250)\n",
              "           .attr(\"width\", 200)\n",
              "           .attr(\"height\", 150)\n",
              "           .attr(\"fill\", \"lightgrey\")\n",
              "           .attr(\"stroke\", \"black\");\n",
              "\n",
              "        // Roof of the house\n",
              "        svg.append(\"polygon\")\n",
              "           .attr(\"points\", \"100,250 300,250 200,150\")\n",
              "           .attr(\"fill\", \"red\")\n",
              "           .attr(\"stroke\", \"black\");\n",
              "\n",
              "        // Door of the house\n",
              "        svg.append(\"rect\")\n",
              "           .attr(\"x\", 210)\n",
              "           .attr(\"y\", 300)\n",
              "           .attr(\"width\", 70)\n",
              "           .attr(\"height\", 100)\n",
              "           .attr(\"fill\", \"brown\")\n",
              "           .attr(\"stroke\", \"black\");\n",
              "\n",
              "        // Window of the house\n",
              "        svg.append(\"rect\")\n",
              "           .attr(\"x\", 120)\n",
              "           .attr(\"y\", 270)\n",
              "           .attr(\"width\", 50)\n",
              "           .attr(\"height\", 60)\n",
              "           .attr(\"fill\", \"lightblue\")\n",
              "           .attr(\"stroke\", \"black\");\n",
              "\n",
              "    </script>\n",
              "\n",
              "</body>\n",
              "</html>\n"
            ]
          },
          "metadata": {}
        }
      ]
    },
    {
      "cell_type": "code",
      "source": [
        "%%html\n",
        "<!DOCTYPE html>\n",
        "<html>\n",
        "<head>\n",
        "    <script src=\"https://d3js.org/d3.v7.min.js\"></script>\n",
        "</head>\n",
        "<body>\n",
        "    <svg width=\"400\" height=\"200\">\n",
        "        <!-- Background -->\n",
        "        <rect width=\"100%\" height=\"100%\" fill=\"#9fe1f5\"/>\n",
        "    </svg>\n",
        "    <br>\n",
        "    <br>\n",
        "    <label for=\"circleX\">Circle X:</label>\n",
        "    <input type=\"text\" id=\"circleX\" value=\"130\">\n",
        "\n",
        "    <label for=\"circleY\">Circle Y:</label>\n",
        "    <input type=\"text\" id=\"circleY\" value=\"50\">\n",
        "\n",
        "    <label for=\"circlerad\">Circle radius :</label>\n",
        "    <input type=\"text\" id=\"circlerad\" value=\"20\">\n",
        "\n",
        "    <button onclick=\"updateCircle()\">Update Circle</button>\n",
        "    <br><br>\n",
        "\n",
        "    <script>\n",
        "        var svg = d3.select(\"svg\");\n",
        "        var circle = svg.append(\"circle\")\n",
        "            .attr(\"cx\", 130)\n",
        "            .attr(\"cy\", 50)\n",
        "            .attr(\"r\", 20)\n",
        "            .style(\"fill\", \"yellow\");\n",
        "\n",
        "        function updateCircle() {\n",
        "            var newX = +document.getElementById(\"circleX\").value;\n",
        "            var newY = +document.getElementById(\"circleY\").value;\n",
        "            var newRad = +document.getElementById(\"circlerad\").value;\n",
        "            circle.attr(\"cx\", newX)\n",
        "                .attr(\"cy\", newY)\n",
        "                .attr(\"r\", newRad);\n",
        "        }\n",
        "    </script>\n",
        "</body>\n",
        "</html>"
      ],
      "metadata": {
        "colab": {
          "base_uri": "https://localhost:8080/",
          "height": 277
        },
        "id": "n-T54nb8DvdE",
        "outputId": "bee87c38-35d0-4cda-fcae-807150d90a4a"
      },
      "execution_count": 2,
      "outputs": [
        {
          "output_type": "display_data",
          "data": {
            "text/plain": [
              "<IPython.core.display.HTML object>"
            ],
            "text/html": [
              "<!DOCTYPE html>\n",
              "<html>\n",
              "<head>\n",
              "    <script src=\"https://d3js.org/d3.v7.min.js\"></script>\n",
              "</head>\n",
              "<body>\n",
              "    <svg width=\"400\" height=\"200\">\n",
              "        <!-- Background -->\n",
              "        <rect width=\"100%\" height=\"100%\" fill=\"#9fe1f5\"/>\n",
              "    </svg>\n",
              "    <br>\n",
              "    <br>\n",
              "    <label for=\"circleX\">Circle X:</label>\n",
              "    <input type=\"text\" id=\"circleX\" value=\"130\">\n",
              "\n",
              "    <label for=\"circleY\">Circle Y:</label>\n",
              "    <input type=\"text\" id=\"circleY\" value=\"50\">\n",
              "\n",
              "    <label for=\"circlerad\">Circle radius :</label>\n",
              "    <input type=\"text\" id=\"circlerad\" value=\"20\">\n",
              "\n",
              "    <button onclick=\"updateCircle()\">Update Circle</button>\n",
              "    <br><br>\n",
              "\n",
              "    <script>\n",
              "        var svg = d3.select(\"svg\");\n",
              "        var circle = svg.append(\"circle\")\n",
              "            .attr(\"cx\", 130)\n",
              "            .attr(\"cy\", 50)\n",
              "            .attr(\"r\", 20)\n",
              "            .style(\"fill\", \"yellow\");\n",
              "\n",
              "        function updateCircle() {\n",
              "            var newX = +document.getElementById(\"circleX\").value;\n",
              "            var newY = +document.getElementById(\"circleY\").value;\n",
              "            var newRad = +document.getElementById(\"circlerad\").value;\n",
              "            circle.attr(\"cx\", newX)\n",
              "                .attr(\"cy\", newY)\n",
              "                .attr(\"r\", newRad);\n",
              "        }\n",
              "    </script>\n",
              "</body>\n",
              "</html>\n"
            ]
          },
          "metadata": {}
        }
      ]
    },
    {
      "cell_type": "code",
      "source": [
        "%%html\n",
        "<!DOCTYPE html>\n",
        "<html>\n",
        "<head>\n",
        "    <title>D3.js Data Loading</title>\n",
        "    <style>\n",
        "        .bar {\n",
        "            display: inline-block;\n",
        "            width: 20px;\n",
        "            background-color: steelblue;\n",
        "            margin-right: 2px;\n",
        "        }\n",
        "    </style>\n",
        "</head>\n",
        "<body>\n",
        "    <script src=\"https://d3js.org/d3.v7.min.js\"></script>\n",
        "    <script>\n",
        "        var dataset = [];\n",
        "        for (var i = 0; i < 25; i++) {\n",
        "            dataset.push(Math.random() * 30);\n",
        "        }\n",
        "\n",
        "        d3.select(\"body\")\n",
        "            .append(\"g\")\n",
        "            .selectAll()\n",
        "            .data(dataset)\n",
        "            .enter()\n",
        "            .append(\"div\")\n",
        "            .attr(\"class\", \"bar\")\n",
        "            .style(\"height\", function(d) { return d * 4 + \"px\"; });\n",
        "    </script>\n",
        "</body>\n",
        "</html>"
      ],
      "metadata": {
        "colab": {
          "base_uri": "https://localhost:8080/",
          "height": 140
        },
        "id": "FLXQhMTAE994",
        "outputId": "c14c21fc-30fa-4a32-d02a-672b54ae61a2"
      },
      "execution_count": 3,
      "outputs": [
        {
          "output_type": "display_data",
          "data": {
            "text/plain": [
              "<IPython.core.display.HTML object>"
            ],
            "text/html": [
              "<!DOCTYPE html>\n",
              "<html>\n",
              "<head>\n",
              "    <title>D3.js Data Loading</title>\n",
              "    <style>\n",
              "        .bar {\n",
              "            display: inline-block;\n",
              "            width: 20px;\n",
              "            background-color: steelblue;\n",
              "            margin-right: 2px;\n",
              "        }\n",
              "    </style>\n",
              "</head>\n",
              "<body>\n",
              "    <script src=\"https://d3js.org/d3.v7.min.js\"></script>\n",
              "    <script>\n",
              "        var dataset = [];\n",
              "        for (var i = 0; i < 25; i++) {\n",
              "            dataset.push(Math.random() * 30);\n",
              "        }\n",
              "\n",
              "        d3.select(\"body\")\n",
              "            .append(\"g\")\n",
              "            .selectAll()\n",
              "            .data(dataset)\n",
              "            .enter()\n",
              "            .append(\"div\")\n",
              "            .attr(\"class\", \"bar\")\n",
              "            .style(\"height\", function(d) { return d * 4 + \"px\"; });\n",
              "    </script>\n",
              "</body>\n",
              "</html>\n"
            ]
          },
          "metadata": {}
        }
      ]
    },
    {
      "cell_type": "code",
      "source": [],
      "metadata": {
        "id": "VdOO_6VqWcF4"
      },
      "execution_count": null,
      "outputs": []
    }
  ]
}